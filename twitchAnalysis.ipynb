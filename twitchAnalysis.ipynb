{
 "cells": [
  {
   "cell_type": "code",
   "execution_count": 6,
   "metadata": {},
   "outputs": [],
   "source": [
    "import numpy as np\n",
    "import pandas as pd\n",
    "import matplotlib.pyplot as plt\n",
    "#import seaborn as sns"
   ]
  },
  {
   "cell_type": "code",
   "execution_count": 7,
   "metadata": {},
   "outputs": [
    {
     "data": {
      "text/html": [
       "<div>\n",
       "<style scoped>\n",
       "    .dataframe tbody tr th:only-of-type {\n",
       "        vertical-align: middle;\n",
       "    }\n",
       "\n",
       "    .dataframe tbody tr th {\n",
       "        vertical-align: top;\n",
       "    }\n",
       "\n",
       "    .dataframe thead th {\n",
       "        text-align: right;\n",
       "    }\n",
       "</style>\n",
       "<table border=\"1\" class=\"dataframe\">\n",
       "  <thead>\n",
       "    <tr style=\"text-align: right;\">\n",
       "      <th></th>\n",
       "      <th>Channel</th>\n",
       "      <th>Watch time(Minutes)</th>\n",
       "      <th>Stream time(minutes)</th>\n",
       "      <th>Peak viewers</th>\n",
       "      <th>Average viewers</th>\n",
       "      <th>Followers</th>\n",
       "      <th>Followers gained</th>\n",
       "      <th>Views gained</th>\n",
       "      <th>Partnered</th>\n",
       "      <th>Mature</th>\n",
       "      <th>Language</th>\n",
       "    </tr>\n",
       "  </thead>\n",
       "  <tbody>\n",
       "    <tr>\n",
       "      <th>0</th>\n",
       "      <td>xQcOW</td>\n",
       "      <td>6196161750</td>\n",
       "      <td>215250</td>\n",
       "      <td>222720</td>\n",
       "      <td>27716</td>\n",
       "      <td>3246298</td>\n",
       "      <td>1734810</td>\n",
       "      <td>93036735</td>\n",
       "      <td>True</td>\n",
       "      <td>False</td>\n",
       "      <td>English</td>\n",
       "    </tr>\n",
       "    <tr>\n",
       "      <th>1</th>\n",
       "      <td>summit1g</td>\n",
       "      <td>6091677300</td>\n",
       "      <td>211845</td>\n",
       "      <td>310998</td>\n",
       "      <td>25610</td>\n",
       "      <td>5310163</td>\n",
       "      <td>1370184</td>\n",
       "      <td>89705964</td>\n",
       "      <td>True</td>\n",
       "      <td>False</td>\n",
       "      <td>English</td>\n",
       "    </tr>\n",
       "    <tr>\n",
       "      <th>2</th>\n",
       "      <td>Gaules</td>\n",
       "      <td>5644590915</td>\n",
       "      <td>515280</td>\n",
       "      <td>387315</td>\n",
       "      <td>10976</td>\n",
       "      <td>1767635</td>\n",
       "      <td>1023779</td>\n",
       "      <td>102611607</td>\n",
       "      <td>True</td>\n",
       "      <td>True</td>\n",
       "      <td>Portuguese</td>\n",
       "    </tr>\n",
       "    <tr>\n",
       "      <th>3</th>\n",
       "      <td>ESL_CSGO</td>\n",
       "      <td>3970318140</td>\n",
       "      <td>517740</td>\n",
       "      <td>300575</td>\n",
       "      <td>7714</td>\n",
       "      <td>3944850</td>\n",
       "      <td>703986</td>\n",
       "      <td>106546942</td>\n",
       "      <td>True</td>\n",
       "      <td>False</td>\n",
       "      <td>English</td>\n",
       "    </tr>\n",
       "    <tr>\n",
       "      <th>4</th>\n",
       "      <td>Tfue</td>\n",
       "      <td>3671000070</td>\n",
       "      <td>123660</td>\n",
       "      <td>285644</td>\n",
       "      <td>29602</td>\n",
       "      <td>8938903</td>\n",
       "      <td>2068424</td>\n",
       "      <td>78998587</td>\n",
       "      <td>True</td>\n",
       "      <td>False</td>\n",
       "      <td>English</td>\n",
       "    </tr>\n",
       "  </tbody>\n",
       "</table>\n",
       "</div>"
      ],
      "text/plain": [
       "    Channel  Watch time(Minutes)  Stream time(minutes)  Peak viewers  \\\n",
       "0     xQcOW           6196161750                215250        222720   \n",
       "1  summit1g           6091677300                211845        310998   \n",
       "2    Gaules           5644590915                515280        387315   \n",
       "3  ESL_CSGO           3970318140                517740        300575   \n",
       "4      Tfue           3671000070                123660        285644   \n",
       "\n",
       "   Average viewers  Followers  Followers gained  Views gained  Partnered  \\\n",
       "0            27716    3246298           1734810      93036735       True   \n",
       "1            25610    5310163           1370184      89705964       True   \n",
       "2            10976    1767635           1023779     102611607       True   \n",
       "3             7714    3944850            703986     106546942       True   \n",
       "4            29602    8938903           2068424      78998587       True   \n",
       "\n",
       "   Mature    Language  \n",
       "0   False     English  \n",
       "1   False     English  \n",
       "2    True  Portuguese  \n",
       "3   False     English  \n",
       "4   False     English  "
      ]
     },
     "execution_count": 7,
     "metadata": {},
     "output_type": "execute_result"
    }
   ],
   "source": [
    "twitchData = pd.read_csv(\"/Users/joanwaweru/Desktop/PyData Analysis/twitchStreamerAnalysis/twitchdata-update.csv\")\n",
    "twitchData.head()"
   ]
  },
  {
   "cell_type": "code",
   "execution_count": 8,
   "metadata": {},
   "outputs": [
    {
     "data": {
      "text/plain": [
       "(1000, 11)"
      ]
     },
     "execution_count": 8,
     "metadata": {},
     "output_type": "execute_result"
    }
   ],
   "source": [
    "#check the shape of the dataset, in this case there are 1000 observations and 11 columns\n",
    "twitchData.shape"
   ]
  },
  {
   "cell_type": "code",
   "execution_count": 9,
   "metadata": {},
   "outputs": [
    {
     "name": "stdout",
     "output_type": "stream",
     "text": [
      "<class 'pandas.core.frame.DataFrame'>\n",
      "RangeIndex: 1000 entries, 0 to 999\n",
      "Data columns (total 11 columns):\n",
      " #   Column                Non-Null Count  Dtype \n",
      "---  ------                --------------  ----- \n",
      " 0   Channel               1000 non-null   object\n",
      " 1   Watch time(Minutes)   1000 non-null   int64 \n",
      " 2   Stream time(minutes)  1000 non-null   int64 \n",
      " 3   Peak viewers          1000 non-null   int64 \n",
      " 4   Average viewers       1000 non-null   int64 \n",
      " 5   Followers             1000 non-null   int64 \n",
      " 6   Followers gained      1000 non-null   int64 \n",
      " 7   Views gained          1000 non-null   int64 \n",
      " 8   Partnered             1000 non-null   bool  \n",
      " 9   Mature                1000 non-null   bool  \n",
      " 10  Language              1000 non-null   object\n",
      "dtypes: bool(2), int64(7), object(2)\n",
      "memory usage: 72.4+ KB\n"
     ]
    }
   ],
   "source": [
    "#checks the information of each column and its type\n",
    "twitchData.info()"
   ]
  },
  {
   "cell_type": "code",
   "execution_count": 10,
   "metadata": {},
   "outputs": [
    {
     "data": {
      "text/plain": [
       "Index(['Channel', 'Watch time(Minutes)', 'Stream time(minutes)',\n",
       "       'Peak viewers', 'Average viewers', 'Followers', 'Followers gained',\n",
       "       'Views gained', 'Partnered', 'Mature', 'Language'],\n",
       "      dtype='object')"
      ]
     },
     "execution_count": 10,
     "metadata": {},
     "output_type": "execute_result"
    }
   ],
   "source": [
    "#checks how many columns are in the dataset, in this case there are 11 of them\n",
    "twitchData.columns"
   ]
  },
  {
   "cell_type": "code",
   "execution_count": 11,
   "metadata": {},
   "outputs": [
    {
     "data": {
      "text/plain": [
       "Channel                 0\n",
       "Watch time(Minutes)     0\n",
       "Stream time(minutes)    0\n",
       "Peak viewers            0\n",
       "Average viewers         0\n",
       "Followers               0\n",
       "Followers gained        0\n",
       "Views gained            0\n",
       "Partnered               0\n",
       "Mature                  0\n",
       "Language                0\n",
       "dtype: int64"
      ]
     },
     "execution_count": 11,
     "metadata": {},
     "output_type": "execute_result"
    }
   ],
   "source": [
    "#checks if there are any null values in the columns, in this case there are no null values\n",
    "twitchData.isnull().sum()"
   ]
  },
  {
   "cell_type": "code",
   "execution_count": 12,
   "metadata": {},
   "outputs": [
    {
     "data": {
      "text/html": [
       "<div>\n",
       "<style scoped>\n",
       "    .dataframe tbody tr th:only-of-type {\n",
       "        vertical-align: middle;\n",
       "    }\n",
       "\n",
       "    .dataframe tbody tr th {\n",
       "        vertical-align: top;\n",
       "    }\n",
       "\n",
       "    .dataframe thead th {\n",
       "        text-align: right;\n",
       "    }\n",
       "</style>\n",
       "<table border=\"1\" class=\"dataframe\">\n",
       "  <thead>\n",
       "    <tr style=\"text-align: right;\">\n",
       "      <th></th>\n",
       "      <th>Watch time(Minutes)</th>\n",
       "      <th>Stream time(minutes)</th>\n",
       "      <th>Peak viewers</th>\n",
       "      <th>Average viewers</th>\n",
       "      <th>Followers</th>\n",
       "      <th>Followers gained</th>\n",
       "      <th>Views gained</th>\n",
       "    </tr>\n",
       "  </thead>\n",
       "  <tbody>\n",
       "    <tr>\n",
       "      <th>count</th>\n",
       "      <td>1.000000e+03</td>\n",
       "      <td>1000.000000</td>\n",
       "      <td>1000.000000</td>\n",
       "      <td>1000.000000</td>\n",
       "      <td>1.000000e+03</td>\n",
       "      <td>1.000000e+03</td>\n",
       "      <td>1.000000e+03</td>\n",
       "    </tr>\n",
       "    <tr>\n",
       "      <th>mean</th>\n",
       "      <td>4.184279e+08</td>\n",
       "      <td>120515.160000</td>\n",
       "      <td>37065.051000</td>\n",
       "      <td>4781.040000</td>\n",
       "      <td>5.700541e+05</td>\n",
       "      <td>2.055185e+05</td>\n",
       "      <td>1.166817e+07</td>\n",
       "    </tr>\n",
       "    <tr>\n",
       "      <th>std</th>\n",
       "      <td>5.496355e+08</td>\n",
       "      <td>85376.201364</td>\n",
       "      <td>60314.307686</td>\n",
       "      <td>8453.684965</td>\n",
       "      <td>8.044134e+05</td>\n",
       "      <td>3.399137e+05</td>\n",
       "      <td>2.490572e+07</td>\n",
       "    </tr>\n",
       "    <tr>\n",
       "      <th>min</th>\n",
       "      <td>1.221928e+08</td>\n",
       "      <td>3465.000000</td>\n",
       "      <td>496.000000</td>\n",
       "      <td>235.000000</td>\n",
       "      <td>3.660000e+03</td>\n",
       "      <td>-1.577200e+04</td>\n",
       "      <td>1.757880e+05</td>\n",
       "    </tr>\n",
       "    <tr>\n",
       "      <th>25%</th>\n",
       "      <td>1.631899e+08</td>\n",
       "      <td>73758.750000</td>\n",
       "      <td>9113.750000</td>\n",
       "      <td>1457.750000</td>\n",
       "      <td>1.705462e+05</td>\n",
       "      <td>4.375825e+04</td>\n",
       "      <td>3.880602e+06</td>\n",
       "    </tr>\n",
       "    <tr>\n",
       "      <th>50%</th>\n",
       "      <td>2.349908e+08</td>\n",
       "      <td>108240.000000</td>\n",
       "      <td>16676.000000</td>\n",
       "      <td>2425.000000</td>\n",
       "      <td>3.180630e+05</td>\n",
       "      <td>9.835200e+04</td>\n",
       "      <td>6.456324e+06</td>\n",
       "    </tr>\n",
       "    <tr>\n",
       "      <th>75%</th>\n",
       "      <td>4.337399e+08</td>\n",
       "      <td>141843.750000</td>\n",
       "      <td>37569.750000</td>\n",
       "      <td>4786.250000</td>\n",
       "      <td>6.243322e+05</td>\n",
       "      <td>2.361308e+05</td>\n",
       "      <td>1.219676e+07</td>\n",
       "    </tr>\n",
       "    <tr>\n",
       "      <th>max</th>\n",
       "      <td>6.196162e+09</td>\n",
       "      <td>521445.000000</td>\n",
       "      <td>639375.000000</td>\n",
       "      <td>147643.000000</td>\n",
       "      <td>8.938903e+06</td>\n",
       "      <td>3.966525e+06</td>\n",
       "      <td>6.701375e+08</td>\n",
       "    </tr>\n",
       "  </tbody>\n",
       "</table>\n",
       "</div>"
      ],
      "text/plain": [
       "       Watch time(Minutes)  Stream time(minutes)   Peak viewers  \\\n",
       "count         1.000000e+03           1000.000000    1000.000000   \n",
       "mean          4.184279e+08         120515.160000   37065.051000   \n",
       "std           5.496355e+08          85376.201364   60314.307686   \n",
       "min           1.221928e+08           3465.000000     496.000000   \n",
       "25%           1.631899e+08          73758.750000    9113.750000   \n",
       "50%           2.349908e+08         108240.000000   16676.000000   \n",
       "75%           4.337399e+08         141843.750000   37569.750000   \n",
       "max           6.196162e+09         521445.000000  639375.000000   \n",
       "\n",
       "       Average viewers     Followers  Followers gained  Views gained  \n",
       "count      1000.000000  1.000000e+03      1.000000e+03  1.000000e+03  \n",
       "mean       4781.040000  5.700541e+05      2.055185e+05  1.166817e+07  \n",
       "std        8453.684965  8.044134e+05      3.399137e+05  2.490572e+07  \n",
       "min         235.000000  3.660000e+03     -1.577200e+04  1.757880e+05  \n",
       "25%        1457.750000  1.705462e+05      4.375825e+04  3.880602e+06  \n",
       "50%        2425.000000  3.180630e+05      9.835200e+04  6.456324e+06  \n",
       "75%        4786.250000  6.243322e+05      2.361308e+05  1.219676e+07  \n",
       "max      147643.000000  8.938903e+06      3.966525e+06  6.701375e+08  "
      ]
     },
     "execution_count": 12,
     "metadata": {},
     "output_type": "execute_result"
    }
   ],
   "source": [
    "#describing the dataset by calculating the mean, std, and different quartiles\n",
    "twitchData.describe()"
   ]
  },
  {
   "cell_type": "markdown",
   "metadata": {},
   "source": [
    "Explanatory Data Analysis"
   ]
  },
  {
   "cell_type": "code",
   "execution_count": 13,
   "metadata": {},
   "outputs": [],
   "source": [
    "# I start by calculating the distribution of viewership (average number of viewers)\n",
    "#import seaborn as sns"
   ]
  },
  {
   "cell_type": "code",
   "execution_count": 27,
   "metadata": {},
   "outputs": [
    {
     "data": {
      "image/png": "[encoded data removed]",
      "text/plain": [
       "<Figure size 1000x500 with 1 Axes>"
      ]
     },
     "metadata": {},
     "output_type": "display_data"
    }
   ],
   "source": [
    "plt.figure(figsize=(10, 5))\n",
    "plt.hist(twitchData['Average viewers'], bins=15, alpha=1.0, color='purple')\n",
    "plt.title('Distribution of Average Viewership')\n",
    "plt.xlabel('Average Viewers')\n",
    "plt.ylabel('Frequency')\n",
    "plt.show()\n",
    "# this shows that the average viewership is below 20,000 viewers and very few channels having 140,000 viewers"
   ]
  },
  {
   "cell_type": "code",
   "execution_count": null,
   "metadata": {},
   "outputs": [],
   "source": []
  }
 ],
 "metadata": {
  "kernelspec": {
   "display_name": "venv",
   "language": "python",
   "name": "python3"
  },
  "language_info": {
   "codemirror_mode": {
    "name": "ipython",
    "version": 3
   },
   "file_extension": ".py",
   "mimetype": "text/x-python",
   "name": "python",
   "nbconvert_exporter": "python",
   "pygments_lexer": "ipython3",
   "version": "3.9.6"
  }
 },
 "nbformat": 4,
 "nbformat_minor": 2
}
